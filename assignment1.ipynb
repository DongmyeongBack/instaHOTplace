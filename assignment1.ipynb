{
 "cells": [
  {
   "cell_type": "code",
   "execution_count": 25,
   "metadata": {},
   "outputs": [
    {
     "data": {
      "text/plain": [
       "'c:\\\\Python311\\\\Lib\\\\site-packages\\\\chromedriver_autoinstaller\\\\117\\\\chromedriver.exe'"
      ]
     },
     "execution_count": 25,
     "metadata": {},
     "output_type": "execute_result"
    }
   ],
   "source": [
    "# import\n",
    "from selenium import webdriver\n",
    "import chromedriver_autoinstaller\n",
    "import time\n",
    "from getpass import getpass\n",
    "\n",
    "from selenium.webdriver import Keys\n",
    "from selenium.webdriver.common.by import By\n",
    "\n",
    "import os\n",
    "from dotenv import load_dotenv\n",
    "\n",
    "import datetime\n",
    "\n",
    "chromedriver_autoinstaller.install()"
   ]
  },
  {
   "cell_type": "code",
   "execution_count": 3,
   "metadata": {},
   "outputs": [],
   "source": [
    "# open csv to store\n",
    "import csv\n",
    "\n",
    "try:\n",
    "    f=open('data.csv', 'a', newline='', encoding='utf-8')\n",
    "    wr = csv.writer(f)\n",
    "except:\n",
    "    f=open('data.csv', 'w', newline='',encoding='utf-8')\n",
    "    wr = csv.writer(f)\n",
    "    wr.writerow(['date', 'img_alt', 'id', 'content'])\n"
   ]
  },
  {
   "cell_type": "code",
   "execution_count": 26,
   "metadata": {},
   "outputs": [],
   "source": [
    "# login instagram\n",
    "load_dotenv()\n",
    "id = os.getenv(\"INSTA_ID\")\n",
    "password = os.getenv(\"INSTA_PW\")\n",
    "driver = webdriver.Chrome()\n",
    "driver.implicitly_wait(5)\n",
    "\n",
    "insta_url = 'https://www.instagram.com/'\n",
    "driver.get(url=insta_url)\n",
    "time.sleep(2)\n",
    "input_id = driver.find_element(By.XPATH, '//*[@id=\"loginForm\"]/div/div[1]/div/label/input').send_keys(id)\n",
    "input_pass = driver.find_element(By.XPATH, '//*[@id=\"loginForm\"]/div/div[2]/div/label/input').send_keys(password)\n",
    "time.sleep(1)\n",
    "driver.find_element(By.XPATH, '//*[@id=\"loginForm\"]/div/div[3]/button').click()\n",
    "time.sleep(3)"
   ]
  },
  {
   "cell_type": "code",
   "execution_count": 27,
   "metadata": {},
   "outputs": [],
   "source": [
    "# go hashtag page\n",
    "hastag = \"서울홍대맛집\"\n",
    "hashtag_url = f\"https://www.instagram.com/explore/tags/{hastag}/\"\n",
    "driver.get(url = hashtag_url)"
   ]
  },
  {
   "cell_type": "code",
   "execution_count": 114,
   "metadata": {},
   "outputs": [
    {
     "name": "stdout",
     "output_type": "stream",
     "text": [
      ">>>>홍대역 데이트 풀코스 모음집.jpg\n",
      "ㄹㅇ찐핫한 곳만 모아 놨으니 그대로 꼬고!! \n",
      "존맛집부터 디저트까지 야무지게 뿌셔보쟈❤️\n",
      "@@이번 주말에는 홍대에서 모여라 >_<~~\n",
      ".\n",
      ".\n",
      "#홍대맛집 #홍대 #서울홍대맛집 #홍대입구 #홍대입구역 #홍대입구맛집 #홍대카페 #홍대소품샵 #소품샵 #홍대데이트코스 #데이트코스 #카페추천 #홍대카페추천 #홍대맛집추천 #일반 #올 #오먹_데이트코스\n"
     ]
    }
   ],
   "source": [
    "# 1st row left img\n",
    "textImg = driver.find_element(By.XPATH, '/html/body/div[2]/div/div/div[2]/div/div/div/div[1]/div[1]/div[2]/section/main/article/div/div/div/div[1]/div[1]/a/div[1]/div[1]/img')\n",
    "print(textImg.get_attribute('alt'))\n"
   ]
  },
  {
   "cell_type": "code",
   "execution_count": 115,
   "metadata": {},
   "outputs": [],
   "source": [
    "# 1st row middle img\n",
    "textImg = driver.find_element(By.XPATH, '/html/body/div[2]/div/div/div[2]/div/div/div/div[1]/div[1]/div[2]/section/main/article/div/div/div/div[1]/div[2]/a/div[1]/div[1]/img')\n",
    "# 2nd row left img\n",
    "textImg = driver.find_element(By.XPATH, '/html/body/div[2]/div/div/div[2]/div/div/div/div[1]/div[1]/div[2]/section/main/article/div/div/div/div[2]/div[1]/a/div[1]/div[1]/img')\n",
    "\n",
    "# There is a rule that determine the Xpath so other method can be used"
   ]
  },
  {
   "cell_type": "code",
   "execution_count": 8,
   "metadata": {},
   "outputs": [
    {
     "name": "stdout",
     "output_type": "stream",
     "text": [
      "2023-10-08\n",
      "[['2023-10-08', 'Photo by 이채연 in 상수동. May be an image of burger and french fries.'], ['2023-10-08', '>>>>홍대역 데이트 풀코스 모음집.jpg\\nㄹㅇ찐핫한 곳만 모아 놨으니 그대로 꼬고!! \\n존맛집부터 디저트까지 야무지게 뿌셔보쟈❤️\\n@@이번 주말에는 홍대에서 모여라 >_<~~\\n.\\n.\\n#홍대맛집 #홍대 #서울홍대맛집 #홍대입구 #홍대입구역 #홍대입구맛집 #홍대카페 #홍대소품샵 #소품샵 #홍대데이트코스 #데이트코스 #카페추천 #홍대카페추천 #홍대맛집추천 #일반 #올 #오먹_데이트코스'], ['2023-10-08', 'Photo by 이나리 in 북가좌동. May be an image of sparkling water and skewer.'], ['2023-10-08', '마법소녀임을 숨기고 있던 사람들 다 모여ㅠㅠ\\n저 케이크 아는사람!#마법당 비주얼 도랐?🍰\\n레미레미도레미 제2의 멤버 될 준비 완료!✨\\n\\n@알지?우리 마법소녀였잖앜ㅋㅋㅋㅋㅋ\\n\\n더 다양한 맛집이 궁금하다면? @verryhappyeating\\n\\n#홍대맛집 #서울 #서울홍대맛집 #디저트맛집 #맛집 #맛집추천 #존예 #존맛 #개존맛 #댕존맛 #핫플 #먹는즐거움 #마법소녀 #마법당 #홍대마법당 #레미레미도레미 #비주얼맛집 #디저트 #홍대카페 #일상 #팔로우 #강남 #홍대 #먹스타그램 #02년생 #03년생 #유머 #웃짤 #유머글'], ['2023-10-08', 'Photo by 박민채 in 남가좌동. May be an image of 1 person, pasta, cauliflower and spaghetti.'], ['2023-10-08', 'Photo by 장수미 in 연희동. May be an image of cake, cheesecake, durian and buns.'], ['2023-10-08', '>>>>홍대역 데이트 풀코스 모음집.jpg\\nㄹㅇ찐핫한 곳만 모아 놨으니 그대로 꼬고!! \\n존맛집부터 디저트까지 야무지게 뿌셔보쟈❤️\\n@@이번 주말에는 홍대에서 모여라 >_<~~\\n.\\n.\\n#홍대맛집 #홍대 #서울홍대맛집 #홍대입구 #홍대입구역 #홍대입구맛집 #홍대카페 #홍대소품샵 #소품샵 #홍대데이트코스 #데이트코스 #카페추천 #홍대카페추천 #홍대맛집추천 #일반 #올\\n \\n \\n \\n \\n \\n \\n \\n \\n \\n \\n \\n \\n \\n \\n \\n \\n  Powered by @autoregram #autoregram'], ['2023-10-08', 'Photo by 박세라 in 미근동.'], ['2023-10-08', '입맛 취적 주의!!! ::홍대원조낙곱새::\\n\\n📌 서울 마포구 어울마당로 100-6 동성빌딩 2층\\n☎️ 02-336-6667\\n⏰ 매주 월요일 휴무 / 매월 첫째주 월,화 휴무\\n화-일 12:00 ~ 23:00 / 22:45 라스트오더\\n\\n통통한 새우와 낙지, 부드러운 차돌과 같이 먹으면 입 안에서 완전 사르르 녹아요 :)\\n가성비, 비주얼, 맛 완전 갑 👍\\n튀김류 반갑행사 중이니 방문하셔서 맛있는 낙곱새 드셔보세요~\\n\\n자세한 내용은 프로필 링크 클릭 ‼️\\n\\n-\\n#서울 #홍대 #맛집 #서울맛집 #홍대맛집 #서울홍대맛집 #홍원낙 #홍대원조낙곱새 #마포맛집 #서울홍대맛집추천 #낙곱새맛집 #서울낙곱새맛집추천 #홍대홍원낙 #서울홍대원조낙곱새 #맛집투어 #좋반 #맞팔 #모지핫플'], ['2023-10-08', 'Photo by 나은서 in 상암동. May be an image of noodles, ramen, hot pot and Perilla.'], ['2023-10-08', 'Photo by 박수연 in 합정동. May be an image of dessert, soap, bagel and text.'], ['2023-10-08', 'Photo by 김예련 in 공덕동. May be an image of chocolate mousse and chocolate cake.'], ['2023-10-08', 'Photo by 최라윤 in 마포구 신공덕동. May be an image of house plant, display case, mistletoe cactus and indoors.'], ['2023-10-08', '밥쑤니 맛집, 일상 블로그 https://m.blog.naver.com/ahah1301\\n#서울#서울레스토랑#홍대#홍대맛집#서울마포구연남동#연남동맛집#연남동레스토랑#연남동파스타#서울파스타#파스타맛집#서울홍대파스타#홍대파스타#파스타#서울홍대맛집#홍대파스타맛집#홍대레스토랑#홍대파스타맛집#홍대미장플라쎄#연남동미장플라쎄#미장플라쎄'], ['2023-10-08', '일본 철판요리가 땡긴다면~\\n서울 홍대 ‘우와’\\n⠀\\n오꼬노미야끼와 야끼소바를 메인으로\\n다양한 테판요리를 선보이는 가게인데요!\\n⠀\\n철판위에서 먹을수도 있지만\\n손님이 많은 경우에는 테이블에서\\n드실수도 있는점 참고해주세요!!\\n⠀\\n저는 추천 메뉴인 ‘새우토마토오코노미야끼’\\n‘돼지고기클래식야끼소바’를 먹었는데요!\\n⠀\\n‘새우토마토오코노미야끼’는\\n토마토소스를 베이스로 해서\\n양배추가 듬뿍들어간 스파게티 피자 느낌?!\\n⠀\\n일본식 피자 느낌이 들었습니다 ㅋㅋ\\n⠀\\n오코노미야끼는 전체적으로 달달한 양배추에\\n소스를 어떤걸 사용하느냐에 따라\\n맛이 확연하게 변화가 있는것 같았어요\\n⠀\\n‘돼지고기클래식야끼소바’는\\n일단 삼겹살~ 겹살이가 베이컨마냥\\n바삭하게 구워져서 맛있구요 ㅎㅎ\\n⠀\\n소스가 짭조롬하면서 되게 달달해요\\n야끼소바에서만 느낄수 있는\\n특유의 소스맛이 자극적이게 잘 느껴져서\\n맥주를 부르는 안주였습니다\\n⠀\\n⠀\\n- 새우토마토오코노미야끼 : 17,000원\\n- 돼지고기클래식야끼소바 : 16,000원\\n⠀\\n⠀\\n제 평점은 ‘4.5점’ 입니다!\\n⠀\\n⠀\\n#내돈내산 #광고아님 #내돈내산맛집 #서울맛집 #홍대맛집 #마포맛집 #마포구맛집 #서울홍대맛집 #홍익대맛집 #일식맛집 #철판요리맛집 #오꼬노미야끼맛집 #우와 #먹자국서울 #koreafood #koreanfood #맛집그램 #맛집공유 #맛집인정 #분위기맛집 #맛집 #맛집추천 #먹스타그램 #맛스타그램 #맛집스타그램 #맛집탐방 #맛집투어 #맛집공유 #맛집여행 #韓国料理'], ['2023-10-08', 'Photo by 박민주 in 미근동. May be an image of lighting, indoors and brick wall.'], ['2023-10-08', 'Photo by 곽윤지 in 대흥동. May be an image of tart and pie.'], ['2023-10-08', '미친!복숭아 덕후들 여기 모여봐라!!🍑\\n아니 이거 무슨 궁댕이 마냥 몽글몽글한게\\n미친비주얼이다😲#대구_데일리베이킹스튜디오\\n\\n@이건 먹으러 가야지!빨리 와라😭\\n\\n더 다양한 맛집이 궁금하다면? @verryhappyeating\\n\\n#홍대맛집 #서울 #서울홍대맛집 #디저트맛집 #맛집 #맛집추천 #존예 #존맛 #개존맛 #댕존맛 #핫플 #먹는즐거움 #복숭아맛집 #복숭아디저트 #데일리베이킹스튜디오 #대구맛집 #대구복숭아빵 #복숭아빵 #대구데일리베이킹스튜디오 #일상 #팔로우 #강남 #홍대 #먹스타그램 #02년생 #03년생 #유머 #웃짤 #유머글'], ['2023-10-08', '#광고 #협찬 #유익상스시🍣🍣\\n진짜 초밥이 어떤맛인지 알고싶다면??\\n#꼭가봐야할곳 홍대 초밥맛집 ‘유익상스시’\\n\\n유익상 특스시(14p) 22,000\\n비주얼이 끝내주는 긴꼬리초밥 👍👍\\n\\n입가심 할 수 있는 양배추샐러드🥗, 시원하고 진한 육수의 모밀🍜과 바삭바삭 새우튀김🍤~~ 따뜻한 미소국까지🥣~~♡\\n입가심하고 나면, 드디어  비주얼이 끝내주는 본 메뉴, 긴꼬리초밥 한상이요🍣\\n.\\n.\\n유익상 특스시는\\n광어3, 연어2, 참치, 점성어2, 메카도로(황새치뱃살)1, 간장새우1, 소고기1, 장어1, 갈릭연어아부리1, 타코군함1 구성인데요!\\n\\n✔유익상스시에는 와사비가 들어가있지 않아요🙅\\u200d♀️\\n와사비를 원하는 만큼 얹어먹어~어린이도 어른들도 각자 취향에 따라 먹기 좋아요👍👍\\n\\n✔꼬리가 긴 초밥이니만큼 개인 붓을 제공해주시는데, 그 붓에 간장을 묻혀 슥슥- 취향에 맞게 발라먹으면 된답니다\\n( 일식젓가락은 기본적으로 긴 편인데..그 옆에 대어보니 긴꼬리 초밥이 얼마나 긴지 감오시나요??최고최고👏👏)\\n\\n✔스시에 밥이 많이 들어가면 배만차고 텁텁한데 유익상스시는 회는 길고 크고, 밥은 적어 좋았어요♡♡\\n\\n✔후식으로 마끼도 주셨는데요~~와👏👏 진짜 너무 맛있어요\\n인생마끼 등극,,🤟\\n김과 어우러지는 꼬숩풍미가득 회와 밥의 조화!\\n\\n✔️홍대 근처 직장인들, 홍대생 점심 맛집으로 오기에 좋아요. ㄴ자 구조가 혼밥 점심하기에 딱 좋은 구조! 사장님이 중간 중간 맛도 물어봐 주시고, 친절하시고 서비스도 주셔서 좋았어요~ 런치에 가면 더 좋을듯요!\\n\\n✔️스시도 구성이 다양하고 맛도 최고예요\\n\\n✔️가성비도 너무 좋고, 회도 신선하고 너무 맛있어요~~(원산지도 큼직막하게 잘붙어있어요)\\n.\\n.\\n인친님들께 적극 추천합니다 ❤️❤️\\nThanks to @yooiksang_official\\n.\\n.\\n🍣영업시간 11:30~21:00\\n브레이크타임15:00~16:00\\n매주 월요일 정기휴무\\n🍣연락처0507-1363-7983\\n🍣주소\\n서울 마포구 와우산로23길 18-7 101호 유익상스시\\n.\\n.\\n#홍대맛집\\xa0#홍대점심\\xa0#홍대뭐먹지\\xa0#홍대데이트\\xa0#서울홍대맛집\\xa0#리뷰노트\\xa0#홍대가성비초밥\\xa0#먹팔\\xa0#먹팔맞팔\\xa0#먹팔환영'], ['2023-10-08', 'Photo by 김의영 in 마포구 도화동. May be an image of hot pot and stew.'], ['2023-10-08', '>>>>홍대역 데이트 풀코스 모음집.jpg\\nㄹㅇ찐핫한 곳만 모아 놨으니 그대로 꼬고!! \\n존맛집부터 디저트까지 야무지게 뿌셔보쟈❤️\\n@@이번 주말에는 홍대에서 모여라 >_<~~\\n.\\n.\\n#홍대맛집 #홍대 #서울홍대맛집 #홍대입구 #홍대입구역 #홍대입구맛집 #홍대카페 #홍대소품샵 #소품샵 #홍대데이트코스 #데이트코스 #카페추천 #홍대카페추천 #홍대맛집추천'], ['2023-10-08', 'Photo by 박이화 in 마포구 마포동. May be an image of food.'], ['2023-10-08', 'Photo by 박다혜 in 동교동. May be an image of watermelon, melon, cantaloupe, fruit cocktail, napkin and buffet.'], ['2023-10-08', '.\\n홍대신상맛집 💗무쇠김치삼겹💗\\n요즘핫한 솥뚜껑에 삼겹살이 홍대에⁉\\n삼겹살 기름으로 김치 굽는거 미쳤다ㅋㅋ\\n마무리로 얼큰한 김치전골 추가는 필수임🤩\\n.\\n고기먹으러 간건데 코스요리 먹는줄(╹ڡ╹ )\\n야 이거 당장 ㄱㄱ??@@\\n.\\n서교동 358-122 1층 무쇠김치삼겹\\n매일 14:00 - 00:00'], ['2023-10-08', 'Photo by 박인다 in 대흥동.'], ['2023-10-08', '-\\n연남근처 양식맛집 찾고 계시는 분! 집중하십쇼 🫡\\n신라호텔 출신 셰프님이 만들어주시는 #문 입니다\\n깔조네 맛집으로 꽤 유명한 곳인데, 파스타도 잘해요\\n제 추천은 페퍼크림파스타인데요? 무조건 시키세요!\\n일반 파스타보다 굵은 면인데 하나도 안느끼하면서\\n살짝 매콤한게 물리는 거 없이 계속 들어가는 맛 ...\\n진짜 제 스타일이였어서 배부른데도 계속 먹었어요\\n\\n깔조네는 종류가 다양했는데 치킨깔조네(올드문)으로\\n주문을 했고, 안에 치킨과 치즈가 푸짐하게 들어있어서\\n양이 정말 많더라고요! 또한 빵 자체가 쫄깃~쫄깃해서 \\n그냥 먹어도 맛있고 파스타 소스에 찍어먹어도 존맛!\\n찹스테이크는 살짝 양념갈비같이 감칠맛나는 맛으로\\n파스타와 함께 곁들여 먹기 좋은 것 같아요! 다음에는\\n다른 메뉴들이랑 와인도 같이 먹으러 재방문 하려고요\\n연남 근처 양식 맛집 찾고 계신다면 문 추천드립니다!\\n\\n•서울 마포구 동교로46길 21\\n•매일 12:00-22:00 | L.O 21:00 \\n\\n#숨맛집_연남\\n\\n#연남맛집 #연남동맛집 #연남맛집추천 #홍대맛집 #홍대맛집추천 #홍대연남동맛집 #서울연남동맛집 #홍대입구역맛집 #홍대입구맛집'], ['2023-10-08', '<고시고시_연남>\\n#광고 @@클럽갈싸람 태그, 고시고시소바클럽🙈@@\\n\\n이제 연남동 웨이팅 맛집으로 등극한,, 곳♥️ 고시고시 소바클럽입니다. 바질소바로 유명한 곳이라서 저도 다녀온적이 있거등요✌🏻✌🏻 이번에는 바질소바 말고 다른메뉴를 한번 먹어봤어요. 라구소바랑 버섯크림소바, 타코야끼라자냐, 자몽브륄레, 감자감자 주문✔️\\n\\n사실 저 로제비스큐소바 빼고 다먹어봤거든요. 나머지4개중에 원픽이 바로 라구에요....🥰 라구소바 진짜 맛있더라구요. 소스와 면의 꾸덕함이 뭔가 잘어울린달까.. 고시고시가면 라구소바 꼭 드셔주세요ㅠㅠㅠ타코야끼 라자냐에도 라구소스가 들어가는데 그래서인지 같이먹으니까 진짜 잘어울리더라구요.\\n\\n버섯크림소바는 트러플향이 나는 크림소바였어요. 트러플 좋아하시는 분들께 강추♥️ 크림소바는 처음먹어보는데 진짜 꾸덕함 장난없어요..... 고시고시는 사이드도 다 맛있더라구요. 저번에 타코야끼 라자냐만 먹어봤는데 넘 맛나서 재주문. 이번에는 ✨자몽브륄레✨를 시켰잖아요....? 미춰써여😳 이거 필수주문하세요... 자몽+카라멜라이징+연유라니 진짜 달달구리한게 맛있더라구요. 3900원의 행복이에요.\\n\\n세상 꾸덕함을 느낄 수 있는 소바맛집♥️ 다 먹으면 보리밥도 무료로 제공해줘서 소스에 비벼먹을 수 있어요. 라구소스에 밥비벼먹고 싶었는데 둘이 5개메뉴 부시느라 못먹었어요🫠 너무 아쉽,,,, 그치만 주문한거는 싹싹 긁어먹고 왔다능거✌🏻✌🏻 이번 연남데이트는 고시고시 어떠세요🙈\\n\\n🧾 라구소바(13900) 버섯크림소바(13900) 타코야끼라자냐(7900) 자몽브륄레(3900) 감자감자(5900)\\n\\n#고시고시 #고시고시소바클럽 #연남맛집 #연남동맛집 #연남맛집추천 #홍대맛집 #홍대맛집추천 #홍대역맛집 #홍대연남동맛집 #서울연남동맛집 #홍대입구역맛집 #홍대입구맛집 #연남데이트 #수플레된장 #연남동데이트 #연남동데이트코스 #서울홍대맛집 #먹스타그램 #먹스타맞팔 #먹스타초보 #먹팔맞팔 #좋아요반사 #좋반댓반']]\n"
     ]
    }
   ],
   "source": [
    "# finding all and store with date\n",
    "todayDatas =[]\n",
    "now=datetime.datetime.now()\n",
    "date=now.strftime('%Y-%m-%d')\n",
    "print(date)\n",
    "\n",
    "for c in range(3):\n",
    "    for r in range(9):\n",
    "        textImg = driver.find_element(By.XPATH, f'/html/body/div[2]/div/div/div[2]/div/div/div/div[1]/div[1]/div[2]/section/main/article/div/div/div/div[{r+1}]/div[{c+1}]/a/div[1]/div[1]/img')\n",
    "        data=[date, textImg.get_attribute('alt')]\n",
    "        todayDatas.append(data)\n",
    "print(todayDatas)"
   ]
  },
  {
   "cell_type": "code",
   "execution_count": 118,
   "metadata": {},
   "outputs": [
    {
     "name": "stdout",
     "output_type": "stream",
     "text": [
      ">>>>홍대역 데이트 풀코스 모음집.jpg\n",
      "ㄹㅇ찐핫한 곳만 모아 놨으니 그대로 꼬고!!\n",
      "존맛집부터 디저트까지 야무지게 뿌셔보쟈❤️\n",
      "@@이번 주말에는 홍대에서 모여라 >_<~~\n",
      ".\n",
      ".\n",
      "#홍대맛집 #홍대 #서울홍대맛집 #홍대입구 #홍대입구역 #홍대입구맛집 #홍대카페 #홍대소품샵 #소품샵 #홍대데이트코스 #데이트코스 #카페추천 #홍대카페추천 #홍대맛집추천 #일반 #올 #오먹_데이트코스\n"
     ]
    }
   ],
   "source": [
    "# finding the content of 1st column left post\n",
    "driver.find_element(By.XPATH, '/html/body/div[2]/div/div/div[2]/div/div/div/div[1]/div[1]/div[2]/section/main/article/div/div/div/div[1]/div[1]/a/div[1]/div[2]').click()\n",
    "time.sleep(1)\n",
    "context=driver.find_element(By.XPATH, '/html/body/div[7]/div[1]/div/div[3]/div/div/div/div/div[2]/div/article/div/div[2]/div/div/div[2]/div[1]/ul/div/li/div/div/div[2]/div[1]/h1')\n",
    "print(context.text)"
   ]
  },
  {
   "cell_type": "code",
   "execution_count": 108,
   "metadata": {},
   "outputs": [
    {
     "name": "stdout",
     "output_type": "stream",
     "text": [
      ">>>>홍대역 데이트 풀코스 모음집.jpg\n",
      "ㄹㅇ찐핫한 곳만 모아 놨으니 그대로 꼬고!!\n",
      "존맛집부터 디저트까지 야무지게 뿌셔보쟈❤️\n",
      "@@이번 주말에는 홍대에서 모여라 >_<~~\n",
      ".\n",
      ".\n",
      "#홍대맛집 #홍대 #서울홍대맛집 #홍대입구 #홍대입구역 #홍대입구맛집 #홍대카페 #홍대소품샵 #소품샵 #홍대데이트코스 #데이트코스 #카페추천 #홍대카페추천 #홍대맛집추천 #일반 #올 #오먹_데이트코스\n"
     ]
    }
   ],
   "source": [
    "# finding the content of 1st column middle post\n",
    "driver.find_element(By.XPATH, '/html/body/div[2]/div/div/div[2]/div/div/div/div[1]/div[1]/div[2]/section/main/article/div/div/div/div[1]/div[2]/a/div[1]/div[2]').click()\n",
    "time.sleep(1)\n",
    "context=driver.find_element(By.XPATH, '/html/body/div[7]/div[1]/div/div[3]/div/div/div/div/div[2]/div/article/div/div[2]/div/div/div[2]/div[1]/ul/div/li/div/div/div[2]/div[1]/h1')\n",
    "print(context.text)\n"
   ]
  },
  {
   "cell_type": "code",
   "execution_count": 119,
   "metadata": {},
   "outputs": [
    {
     "data": {
      "text/plain": [
       "'omuk_food'"
      ]
     },
     "execution_count": 119,
     "metadata": {},
     "output_type": "execute_result"
    }
   ],
   "source": [
    "context=driver.find_element(By.XPATH, '/html/body/div[7]/div[1]/div/div[3]/div/div/div/div/div[2]/div/article/div/div[2]/div/div/div[2]/div[1]/ul/div/li/div/div/div[2]/h2/div/div/div/a')\n",
    "context.text"
   ]
  },
  {
   "cell_type": "code",
   "execution_count": 31,
   "metadata": {},
   "outputs": [
    {
     "name": "stdout",
     "output_type": "stream",
     "text": [
      "1 1\n",
      "맛있게 먹었습니다\n",
      "\n",
      "#홍대맛집포장 #홍대연남맛집 #홍대역근처맛집 #홍대맛집분석 #홍대찐맛집어디 #홍대데이트맛집 #서울홍대맛집 #홍대맛집점심 #홍대핫플맛집 #일상수목금\n",
      "2 1\n",
      ">>>>홍대역 데이트 풀코스 모음집.jpg\n",
      "ㄹㅇ찐핫한 곳만 모아 놨으니 그대로 꼬고!!\n",
      "존맛집부터 디저트까지 야무지게 뿌셔보쟈❤️\n",
      "@@이번 주말에는 홍대에서 모여라 >_<~~\n",
      ".\n",
      ".\n",
      "#홍대맛집 #홍대 #서울홍대맛집 #홍대입구 #홍대입구역 #홍대입구맛집 #홍대카페 #홍대소품샵 #소품샵 #홍대데이트코스 #데이트코스 #카페추천 #홍대카페추천 #홍대맛집추천\n",
      "3 1\n",
      "남편이 극찬하네요\n",
      "\n",
      "#홍대맛집후기 #홍대대흥맛집 #홍대맛집포장 #맞팔그램소통 #홍대상수역맛집 #홍대상수맛집 #홍대맛집점심 #서울홍대맛집 #홍대신촌동맛집 #홍대맛집탐험 #홍대핫플맛집 #홍대연남동맛집 #홍대누구나맛집\n",
      "4 1\n",
      "맛있어요 ㅎㅎ 분위기 좋아요\n",
      "\n",
      "#홍대맛집추천 #홍대의찐맛집은 #서울홍대맛집 #홍대마포맛집 #홍대맛집지도 #홍대신수맛집 #맞좋일상과 #홍대맛집점심 #홍대점심맛집 #홍대맛집리스트 #홍대맛집저녁 #홍대맛집가성비 #홍대누구나맛집\n",
      "5 1\n"
     ]
    },
    {
     "ename": "KeyboardInterrupt",
     "evalue": "",
     "output_type": "error",
     "traceback": [
      "\u001b[1;31m---------------------------------------------------------------------------\u001b[0m",
      "\u001b[1;31mKeyboardInterrupt\u001b[0m                         Traceback (most recent call last)",
      "\u001b[1;32mc:\\Users\\백동명\\Desktop\\ㅁㅊ과제들\\2학년 2학기(2023 하반기)\\Data management and analysis\\Assignment1\\assignment1.ipynb Cell 11\u001b[0m line \u001b[0;36m8\n\u001b[0;32m      <a href='vscode-notebook-cell:/c%3A/Users/%EB%B0%B1%EB%8F%99%EB%AA%85/Desktop/%E3%85%81%E3%85%8A%EA%B3%BC%EC%A0%9C%EB%93%A4/2%ED%95%99%EB%85%84%202%ED%95%99%EA%B8%B0%282023%20%ED%95%98%EB%B0%98%EA%B8%B0%29/Data%20management%20and%20analysis/Assignment1/assignment1.ipynb#X13sZmlsZQ%3D%3D?line=5'>6</a>\u001b[0m click \u001b[39m=\u001b[39m driver\u001b[39m.\u001b[39mfind_element(By\u001b[39m.\u001b[39mXPATH, \u001b[39mf\u001b[39m\u001b[39m'\u001b[39m\u001b[39m/html/body/div[2]/div/div/div[2]/div/div/div/div[1]/div[1]/div[2]/section/main/article/div/div/div/div[\u001b[39m\u001b[39m{\u001b[39;00mr\u001b[39m+\u001b[39m\u001b[39m1\u001b[39m\u001b[39m}\u001b[39;00m\u001b[39m]/div[\u001b[39m\u001b[39m{\u001b[39;00mc\u001b[39m+\u001b[39m\u001b[39m1\u001b[39m\u001b[39m}\u001b[39;00m\u001b[39m]/a/div[1]/div[2]\u001b[39m\u001b[39m'\u001b[39m)\n\u001b[0;32m      <a href='vscode-notebook-cell:/c%3A/Users/%EB%B0%B1%EB%8F%99%EB%AA%85/Desktop/%E3%85%81%E3%85%8A%EA%B3%BC%EC%A0%9C%EB%93%A4/2%ED%95%99%EB%85%84%202%ED%95%99%EA%B8%B0%282023%20%ED%95%98%EB%B0%98%EA%B8%B0%29/Data%20management%20and%20analysis/Assignment1/assignment1.ipynb#X13sZmlsZQ%3D%3D?line=6'>7</a>\u001b[0m driver\u001b[39m.\u001b[39mexecute_script(\u001b[39m\"\u001b[39m\u001b[39marguments[0].click();\u001b[39m\u001b[39m\"\u001b[39m, click)\n\u001b[1;32m----> <a href='vscode-notebook-cell:/c%3A/Users/%EB%B0%B1%EB%8F%99%EB%AA%85/Desktop/%E3%85%81%E3%85%8A%EA%B3%BC%EC%A0%9C%EB%93%A4/2%ED%95%99%EB%85%84%202%ED%95%99%EA%B8%B0%282023%20%ED%95%98%EB%B0%98%EA%B8%B0%29/Data%20management%20and%20analysis/Assignment1/assignment1.ipynb#X13sZmlsZQ%3D%3D?line=7'>8</a>\u001b[0m time\u001b[39m.\u001b[39;49msleep(\u001b[39m5\u001b[39;49m)\n\u001b[0;32m      <a href='vscode-notebook-cell:/c%3A/Users/%EB%B0%B1%EB%8F%99%EB%AA%85/Desktop/%E3%85%81%E3%85%8A%EA%B3%BC%EC%A0%9C%EB%93%A4/2%ED%95%99%EB%85%84%202%ED%95%99%EA%B8%B0%282023%20%ED%95%98%EB%B0%98%EA%B8%B0%29/Data%20management%20and%20analysis/Assignment1/assignment1.ipynb#X13sZmlsZQ%3D%3D?line=8'>9</a>\u001b[0m \u001b[39mid\u001b[39m\u001b[39m=\u001b[39mdriver\u001b[39m.\u001b[39mfind_element(By\u001b[39m.\u001b[39mXPATH, \u001b[39m'\u001b[39m\u001b[39m/html/body/div[7]/div[1]/div/div[3]/div/div/div/div/div[2]/div/article/div/div[2]/div/div/div[1]/div/header/div[2]/div[1]/div[1]/div/div/span/div/div/a\u001b[39m\u001b[39m'\u001b[39m)\n\u001b[0;32m     <a href='vscode-notebook-cell:/c%3A/Users/%EB%B0%B1%EB%8F%99%EB%AA%85/Desktop/%E3%85%81%E3%85%8A%EA%B3%BC%EC%A0%9C%EB%93%A4/2%ED%95%99%EB%85%84%202%ED%95%99%EA%B8%B0%282023%20%ED%95%98%EB%B0%98%EA%B8%B0%29/Data%20management%20and%20analysis/Assignment1/assignment1.ipynb#X13sZmlsZQ%3D%3D?line=9'>10</a>\u001b[0m todayDatas[\u001b[39miter\u001b[39m]\u001b[39m.\u001b[39mappend(\u001b[39mid\u001b[39m\u001b[39m.\u001b[39mtext)\n",
      "\u001b[1;31mKeyboardInterrupt\u001b[0m: "
     ]
    }
   ],
   "source": [
    "# store all content\n",
    "iter=0\n",
    "for c in range(3):\n",
    "    for r in range(9):\n",
    "        print(r+1,c+1)\n",
    "        click = driver.find_element(By.XPATH, f'/html/body/div[2]/div/div/div[2]/div/div/div/div[1]/div[1]/div[2]/section/main/article/div/div/div/div[{r+1}]/div[{c+1}]/a/div[1]/div[2]')\n",
    "        driver.execute_script(\"arguments[0].click();\", click)\n",
    "        time.sleep(5)\n",
    "        id=driver.find_element(By.XPATH, '/html/body/div[7]/div[1]/div/div[3]/div/div/div/div/div[2]/div/article/div/div[2]/div/div/div[1]/div/header/div[2]/div[1]/div[1]/div/div/span/div/div/a')\n",
    "        todayDatas[iter].append(id.text)\n",
    "        context=driver.find_element(By.XPATH, '/html/body/div[7]/div[1]/div/div[3]/div/div/div/div/div[2]/div/article/div/div[2]/div/div/div[2]/div[1]/ul/div/li/div/div/div[2]/div[1]/h1')\n",
    "        print(context.text)\n",
    "        todayDatas[iter].append(context.text)\n",
    "        webdriver.ActionChains(driver).send_keys(Keys.ESCAPE).perform()\n",
    "        time.sleep(2)\n",
    "        iter+=1\n"
   ]
  },
  {
   "cell_type": "code",
   "execution_count": 81,
   "metadata": {},
   "outputs": [],
   "source": [
    "#store in csv file\n",
    "for row in todayDatas:\n",
    "    wr.writerow(row)\n",
    "    \n",
    "f.close()"
   ]
  }
 ],
 "metadata": {
  "kernelspec": {
   "display_name": "Python 3",
   "language": "python",
   "name": "python3"
  },
  "language_info": {
   "codemirror_mode": {
    "name": "ipython",
    "version": 3
   },
   "file_extension": ".py",
   "mimetype": "text/x-python",
   "name": "python",
   "nbconvert_exporter": "python",
   "pygments_lexer": "ipython3",
   "version": "3.11.4"
  }
 },
 "nbformat": 4,
 "nbformat_minor": 2
}
