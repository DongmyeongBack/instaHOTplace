{
 "cells": [
  {
   "cell_type": "code",
   "execution_count": 1,
   "metadata": {},
   "outputs": [
    {
     "name": "stderr",
     "output_type": "stream",
     "text": [
      "WARNING:root:Can not find chromedriver for currently installed chrome version.\n"
     ]
    }
   ],
   "source": [
    "# import\n",
    "from selenium import webdriver\n",
    "import chromedriver_autoinstaller\n",
    "import time\n",
    "from getpass import getpass\n",
    "\n",
    "from selenium.webdriver import Keys\n",
    "from selenium.webdriver.common.by import By\n",
    "\n",
    "import os\n",
    "from dotenv import load_dotenv\n",
    "\n",
    "import datetime\n",
    "\n",
    "chromedriver_autoinstaller.install()"
   ]
  },
  {
   "cell_type": "code",
   "execution_count": 2,
   "metadata": {},
   "outputs": [],
   "source": [
    "# open csv to store\n",
    "import csv\n",
    "\n",
    "try:\n",
    "    f=open('data.csv', 'a', newline='', encoding='utf-8')\n",
    "    wr = csv.writer(f)\n",
    "except:\n",
    "    f=open('data.csv', 'w', newline='',encoding='utf-8')\n",
    "    wr = csv.writer(f)\n",
    "    wr.writerow(['date', 'img_alt', 'id', 'content'])\n"
   ]
  },
  {
   "cell_type": "code",
   "execution_count": 3,
   "metadata": {},
   "outputs": [],
   "source": [
    "# login instagram\n",
    "load_dotenv()\n",
    "id = \"01092950837\"\n",
    "password = \"Ddong032%\"\n",
    "driver = webdriver.Chrome()\n",
    "driver.implicitly_wait(5)\n",
    "\n",
    "insta_url = 'https://www.instagram.com/'\n",
    "driver.get(url=insta_url)\n",
    "time.sleep(2)\n",
    "input_id = driver.find_element(By.XPATH, '//*[@id=\"loginForm\"]/div/div[1]/div/label/input').send_keys(id)\n",
    "input_pass = driver.find_element(By.XPATH, '//*[@id=\"loginForm\"]/div/div[2]/div/label/input').send_keys(password)\n",
    "time.sleep(1)\n",
    "driver.find_element(By.XPATH, '//*[@id=\"loginForm\"]/div/div[3]/button').click()\n",
    "time.sleep(3)"
   ]
  },
  {
   "cell_type": "code",
   "execution_count": 4,
   "metadata": {},
   "outputs": [],
   "source": [
    "# go hashtag page\n",
    "hastag = \"서울홍대맛집\"\n",
    "hashtag_url = f\"https://www.instagram.com/explore/tags/{hastag}/\"\n",
    "driver.get(url = hashtag_url)"
   ]
  },
  {
   "cell_type": "code",
   "execution_count": 5,
   "metadata": {},
   "outputs": [
    {
     "name": "stdout",
     "output_type": "stream",
     "text": [
      "Photo by 이우현 in 연희동. May be an image of dessert.\n"
     ]
    }
   ],
   "source": [
    "# 1st row left img\n",
    "textImg = driver.find_element(By.XPATH, '/html/body/div[2]/div/div/div[2]/div/div/div/div[1]/div[1]/div[2]/section/main/article/div/div/div/div[1]/div[1]/a/div[1]/div[1]/img')\n",
    "print(textImg.get_attribute('alt'))\n"
   ]
  },
  {
   "cell_type": "code",
   "execution_count": 6,
   "metadata": {},
   "outputs": [],
   "source": [
    "# 1st row middle img\n",
    "textImg = driver.find_element(By.XPATH, '/html/body/div[2]/div/div/div[2]/div/div/div/div[1]/div[1]/div[2]/section/main/article/div/div/div/div[1]/div[2]/a/div[1]/div[1]/img')\n",
    "# 2nd row left img\n",
    "textImg = driver.find_element(By.XPATH, '/html/body/div[2]/div/div/div[2]/div/div/div/div[1]/div[1]/div[2]/section/main/article/div/div/div/div[2]/div[1]/a/div[1]/div[1]/img')\n",
    "\n",
    "# There is a rule that determine the Xpath so other method can be used"
   ]
  },
  {
   "cell_type": "code",
   "execution_count": 7,
   "metadata": {},
   "outputs": [
    {
     "name": "stdout",
     "output_type": "stream",
     "text": [
      "2023-10-27\n",
      "[['2023-10-27', 'Photo by 이우현 in 연희동. May be an image of dessert.'], ['2023-10-27', '>>>>홍대역 데이트 풀코스 모음집.jpg\\nㄹㅇ찐핫한 곳만 모아 놨으니 그대로 꼬고!! \\n존맛집부터 디저트까지 야무지게 뿌셔보쟈❤️\\n@@이번 주말에는 홍대에서 모여라 >_<~~\\n.\\n.\\n#홍대맛집 #홍대 #서울홍대맛집 #홍대입구 #홍대입구역 #홍대입구맛집 #홍대카페 #홍대소품샵 #소품샵 #홍대데이트코스 #데이트코스 #카페추천 #홍대카페추천 #홍대맛집추천 #일반 #올 #오먹_데이트코스'], ['2023-10-27', '마법소녀임을 숨기고 있던 사람들 다 모여ㅠㅠ\\n저 케이크 아는사람!#마법당 비주얼 도랐?🍰\\n레미레미도레미 제2의 멤버 될 준비 완료!✨\\n\\n@알지?우리 마법소녀였잖앜ㅋㅋㅋㅋㅋ\\n\\n더 다양한 맛집이 궁금하다면? @verryhappyeating\\n\\n#홍대맛집 #서울 #서울홍대맛집 #디저트맛집 #맛집 #맛집추천 #존예 #존맛 #개존맛 #댕존맛 #핫플 #먹는즐거움 #마법소녀 #마법당 #홍대마법당 #레미레미도레미 #비주얼맛집 #디저트 #홍대카페 #일상 #팔로우 #강남 #홍대 #먹스타그램 #02년생 #03년생 #유머 #웃짤 #유머글'], ['2023-10-27', 'Photo by 박한결 in 도화동. May be an image of coffee cup, coffee, cappuccino and cup.'], ['2023-10-27', '입맛 취적 주의!!! ::홍대원조낙곱새::\\n\\n📌 서울 마포구 어울마당로 100-6 동성빌딩 2층\\n☎️ 02-336-6667\\n⏰ 매주 월요일 휴무 / 매월 첫째주 월,화 휴무\\n화-일 12:00 ~ 23:00 / 22:45 라스트오더\\n\\n통통한 새우와 낙지, 부드러운 차돌과 같이 먹으면 입 안에서 완전 사르르 녹아요 :)\\n가성비, 비주얼, 맛 완전 갑 👍\\n튀김류 반갑행사 중이니 방문하셔서 맛있는 낙곱새 드셔보세요~\\n\\n자세한 내용은 프로필 링크 클릭 ‼️\\n\\n-\\n#서울 #홍대 #맛집 #서울맛집 #홍대맛집 #서울홍대맛집 #홍원낙 #홍대원조낙곱새 #마포맛집 #서울홍대맛집추천 #낙곱새맛집 #서울낙곱새맛집추천 #홍대홍원낙 #서울홍대원조낙곱새 #맛집투어 #좋반 #맞팔 #모지핫플'], ['2023-10-27', 'Photo by 박이화 in 대흥동. May be an image of oatmeal cookies, coconut macaroon, crumbcake, turnover, fritter, pretzel and scone.'], ['2023-10-27', 'Photo by 곽윤지 in 대흥동. May be an image of tart and pie.'], ['2023-10-27', '<고시고시_연남>\\n#광고 @@클럽갈싸람 태그, 고시고시소바클럽🙈@@\\n\\n이제 연남동 웨이팅 맛집으로 등극한,, 곳♥️ 고시고시 소바클럽입니다. 바질소바로 유명한 곳이라서 저도 다녀온적이 있거등요✌🏻✌🏻 이번에는 바질소바 말고 다른메뉴를 한번 먹어봤어요. 라구소바랑 버섯크림소바, 타코야끼라자냐, 자몽브륄레, 감자감자 주문✔️\\n\\n사실 저 로제비스큐소바 빼고 다먹어봤거든요. 나머지4개중에 원픽이 바로 라구에요....🥰 라구소바 진짜 맛있더라구요. 소스와 면의 꾸덕함이 뭔가 잘어울린달까.. 고시고시가면 라구소바 꼭 드셔주세요ㅠㅠㅠ타코야끼 라자냐에도 라구소스가 들어가는데 그래서인지 같이먹으니까 진짜 잘어울리더라구요.\\n\\n버섯크림소바는 트러플향이 나는 크림소바였어요. 트러플 좋아하시는 분들께 강추♥️ 크림소바는 처음먹어보는데 진짜 꾸덕함 장난없어요..... 고시고시는 사이드도 다 맛있더라구요. 저번에 타코야끼 라자냐만 먹어봤는데 넘 맛나서 재주문. 이번에는 ✨자몽브륄레✨를 시켰잖아요....? 미춰써여😳 이거 필수주문하세요... 자몽+카라멜라이징+연유라니 진짜 달달구리한게 맛있더라구요. 3900원의 행복이에요.\\n\\n세상 꾸덕함을 느낄 수 있는 소바맛집♥️ 다 먹으면 보리밥도 무료로 제공해줘서 소스에 비벼먹을 수 있어요. 라구소스에 밥비벼먹고 싶었는데 둘이 5개메뉴 부시느라 못먹었어요🫠 너무 아쉽,,,, 그치만 주문한거는 싹싹 긁어먹고 왔다능거✌🏻✌🏻 이번 연남데이트는 고시고시 어떠세요🙈\\n\\n🧾 라구소바(13900) 버섯크림소바(13900) 타코야끼라자냐(7900) 자몽브륄레(3900) 감자감자(5900)\\n\\n#고시고시 #고시고시소바클럽 #연남맛집 #연남동맛집 #연남맛집추천 #홍대맛집 #홍대맛집추천 #홍대역맛집 #홍대연남동맛집 #서울연남동맛집 #홍대입구역맛집 #홍대입구맛집 #연남데이트 #수플레된장 #연남동데이트 #연남동데이트코스 #서울홍대맛집 #먹스타그램 #먹스타맞팔 #먹스타초보 #먹팔맞팔 #좋아요반사 #좋반댓반'], ['2023-10-27', '연남동 불맛 가득한 차슈와 라멘 맛집, 모바면가🍜🥓🔥\\n\\n기본으로 차슈가 5장이나 들어간\\n인심 후한 일본 라멘 맛집🤩\\n크기도 크고, 제법 두껍게 썰린 차슈가\\n불맛까지 가득 베여 감칠맛 2배로 🆙❤️\\n\\n🌱바질라멘이라는 색다른 라멘에\\n여럿 사이드 메뉴들도 다양하게 있어\\n외식, 데이트 장소로도 굿👨\\u200d👩\\u200d👧\\u200d👦\\n\\n🌟기름지지않아 담백하고\\n전체적으로 간이 세지 않아서\\n가벼우면서도 무겁지않은\\n일본라멘 찾으신다면\\n연남 모바면가 추천드려요💫\\n\\n.\\n.\\n🏷️ 모바면가 연남점\\n\\n돈고츠+차슈 추가(13,9)\\n카라이+차슈 추가(13,9)\\n계란추가(1,5)\\n\\n📍서울 마포구 동교로38길 42\\n\\u200b⏰ 매일 11:00 ~ 21:00\\n🚘지역 특성상 주차안됨\\n\\n#연남라멘맛집 #모바면가연남점 #모바면가 #돈코츠라멘 #카라이라멘 #일본라멘맛집 #일본라멘 #라멘스타그램 #서울홍대맛집 #홍대라멘집 #연남라멘집 #먹스타그램 #맛스타그램 #먹방 #먹팔 #먹스타 #먹소통 #먹스타맞팔 #좋반'], ['2023-10-27', '밥쑤니 맛집, 일상 블로그 https://m.blog.naver.com/ahah1301\\n#서울#서울레스토랑#홍대#홍대맛집#서울마포구연남동#연남동맛집#연남동레스토랑#연남동파스타#서울파스타#파스타맛집#서울홍대파스타#홍대파스타#파스타#서울홍대맛집#홍대파스타맛집#홍대레스토랑#홍대파스타맛집#홍대미장플라쎄#연남동미장플라쎄#미장플라쎄'], ['2023-10-27', 'Photo by 김려원 in Cheonyeon-dong. May be an image of ramen, noodles and seaweed.'], ['2023-10-27', 'Photo by 박지아 in 망원동.'], ['2023-10-27', '일본 철판요리가 땡긴다면~\\n서울 홍대 ‘우와’\\n⠀\\n오꼬노미야끼와 야끼소바를 메인으로\\n다양한 테판요리를 선보이는 가게인데요!\\n⠀\\n철판위에서 먹을수도 있지만\\n손님이 많은 경우에는 테이블에서\\n드실수도 있는점 참고해주세요!!\\n⠀\\n저는 추천 메뉴인 ‘새우토마토오코노미야끼’\\n‘돼지고기클래식야끼소바’를 먹었는데요!\\n⠀\\n‘새우토마토오코노미야끼’는\\n토마토소스를 베이스로 해서\\n양배추가 듬뿍들어간 스파게티 피자 느낌?!\\n⠀\\n일본식 피자 느낌이 들었습니다 ㅋㅋ\\n⠀\\n오코노미야끼는 전체적으로 달달한 양배추에\\n소스를 어떤걸 사용하느냐에 따라\\n맛이 확연하게 변화가 있는것 같았어요\\n⠀\\n‘돼지고기클래식야끼소바’는\\n일단 삼겹살~ 겹살이가 베이컨마냥\\n바삭하게 구워져서 맛있구요 ㅎㅎ\\n⠀\\n소스가 짭조롬하면서 되게 달달해요\\n야끼소바에서만 느낄수 있는\\n특유의 소스맛이 자극적이게 잘 느껴져서\\n맥주를 부르는 안주였습니다\\n⠀\\n⠀\\n- 새우토마토오코노미야끼 : 17,000원\\n- 돼지고기클래식야끼소바 : 16,000원\\n⠀\\n⠀\\n제 평점은 ‘4.5점’ 입니다!\\n⠀\\n⠀\\n#내돈내산 #광고아님 #내돈내산맛집 #서울맛집 #홍대맛집 #마포맛집 #마포구맛집 #서울홍대맛집 #홍익대맛집 #일식맛집 #철판요리맛집 #오꼬노미야끼맛집 #우와 #먹자국서울 #koreafood #koreanfood #맛집그램 #맛집공유 #맛집인정 #분위기맛집 #맛집 #맛집추천 #먹스타그램 #맛스타그램 #맛집스타그램 #맛집탐방 #맛집투어 #맛집공유 #맛집여행 #韓国料理'], ['2023-10-27', 'Photo by 이채연 in 상수동. May be an image of burger and french fries.'], ['2023-10-27', 'Photo by 박세라 in 미근동.'], ['2023-10-27', '#협찬 #홍대입구맛집 #탄탄맨션 \\n\\n홍콩감성 물씬 풍기는 홍대입구역\\n탄탄면 맛집, ‘탄탄맨션’에 다녀왔어요🇭🇰\\n\\n탄탄맨션은 마치 홍콩에 여행 온듯한 분위기에서 \\n홍콩식 탄탄면을 즐길 수 있는 맛집이에요🙌🏻\\n—\\n🦐새우탕면 ₩10,800\\n\\n새우탕면은 새우가 아낌없이 들어가 있어서, 새우향이 \\n진하게 베어있는 고소한 국물이 일품이었어요👍🏻\\n\\n면발 식감도 잘 살아있었고, 새우 속살도 \\n탱글탱글하니 정말 맛있었는데요😋\\n\\n저는 향신료 좋아해서 따로 나오는 고수를 \\n듬뿍 올려먹으니까 풍미가 더해져서 좋았어요🌿\\n—\\n🥢탄탄꿀조합\\n\\n탄탄면과 튀긴만두, 밥이 세트로 나오는 메뉴에요🍴\\n\\n탄탄면의 경우에는 면발이 탱글하고 \\n진한 국물에 면이 잘 스며들어있어서 맛있었고요🤤\\n\\n몽콕 튀긴만두는 속에 새우와 돼지고기가 \\n꽉 차있어서 든든하게 즐길 수 있었어요😆\\n—\\n🥤탄탄밀크티 ₩4,800\\n\\n홍콩하면 생각나는 밀크티도 예쁜 \\n캔에 담아서 판매하고 있었는데요✨\\n\\n밀크티 특유의 달달함과 풍미가 잘 느껴져서 \\n후식으로 마시기 딱 좋았습니다☺️\\n—\\n탄탄맨션은 분위기가 이국적이고, \\n메뉴도 매콤하면서 특색이 넘쳤기 때문에😍\\n\\n트랜디한 음식 좋아하시거나 맵부심있는 분들이 \\n방문하시면 좋을것 같다는 생각이 들었어요🔥\\n\\n또 가게 주위에 홍콩 느낌 나는 \\n다양한 포토존도 갖추고 있었기 때문에📸\\n\\n인친님들께도 홍대 ‘탄탄맨션’ 꼭 추천드리고 싶네요👋🏻\\n—\\n📍마포구 와우산로 21길 36-8\\n🕰매일 11:30-21:30\\n\\n#서울더핫플 #탄탄맨션벽화 #홍대탄탄면 #탄탄면맛집 #홍대입구역맛집 #상수역맛집 #마포구맛집 #홍대밥집 #서교동맛집 #홍대맛집추천 #홍대점심 #홍대점심맛집 #서울홍대맛집'], ['2023-10-27', '-\\n바질러버 눈도라가는 맛집이에요 퓨전소바 맛집 #고시고시\\n제가 바질을 저엉말 좋아해서 기대에 부풀어 갔던 곳입니다\\n바질페스토와 온센타마고의 비주얼이 조화로운 바질소바와\\n그냥 비주얼만 보고 냅다 시킨 라구 소바 이렇게 주문했어요\\n\\n바질소바는 보시는 것 처럼 한입 먹으면 입안에 바질향이 ...\\n면 자체도 굵지도 얇지도 않는 적당한 면발이라 좋았구요\\n맛도 느끼하지 않고 바질페스토와 쪽파의 조합이 미쳐버림\\n꾸덕한 바질소바 다 먹으면 보리밥 시켜 비벼먹어도 굳굳!\\n\\n라구소바는 치즈와 루꼴라와 함께 비벼 한입에 왕 먹으면\\n고기소스의 풍미가 느껴지면서 개인적으로 제 원픽입니다\\n라구소스 좋아하시는 분들 무조건 원픽일거라 장담해요!\\n\\n사이드 메뉴도 다 맛있었어요! 타코야끼에 라구소스는 믿먹\\n웬만한 타코야끼 전문점보다 맛있었다는 .. 감자감자도 추천\\n정말 특색있는 맛집으로 매장 전체적인 분위기 뿐만 아니라\\n메뉴 모두 깔끔해서 젊은 사람들이 방문하기 좋겠더라구요?\\n많은 사람들이 왜 웨이팅하며 먹는지 이해되는 곳이였어요 🫶🏻\\n\\n•서울 마포구 동교로38길 33-21 1층 고시고시\\n•11:30-21:00 B.T 15:00-17:00\\n•홍대입구역 3번출구\\n\\n#숨맛집_서울 #숨맛집_연남\\n\\n#연남맛집 #연남동맛집 #연남맛집추천 #홍대맛집 #홍대맛집추천 #홍대연남동맛집 #서울연남동맛집 #홍대입구역맛집 #홍대입구맛집'], ['2023-10-27', 'Photo by 박인다 in 대흥동.'], ['2023-10-27', 'Photo by 마건제 in 대흥동. May be an image of hot pot, tofu and stew.'], ['2023-10-27', 'Photo by 이의정 in 아현동. May be an image of noodles, radish, seaweed and Perilla.'], ['2023-10-27', '>>>>홍대역 데이트 풀코스 모음집.jpg\\nㄹㅇ찐핫한 곳만 모아 놨으니 그대로 꼬고!! \\n존맛집부터 디저트까지 야무지게 뿌셔보쟈❤️\\n@@이번 주말에는 홍대에서 모여라 >_<~~\\n.\\n.\\n#홍대맛집 #홍대 #서울홍대맛집 #홍대입구 #홍대입구역 #홍대입구맛집 #홍대카페 #홍대소품샵 #소품샵 #홍대데이트코스 #데이트코스 #카페추천 #홍대카페추천 #홍대맛집추천'], ['2023-10-27', 'Photo by 김주예 in 합정동. May be an image of furniture, shelf and indoors.'], ['2023-10-27', '서울 곱창쌀국수 맛집\\n#땀땀 #줄서는식당\\n\\n#곱창쌀국수 \\n#차돌쌀국수\\n#분짜\\n\\n서울 놀러간김에 줄서는 식당에서 \\n나왔다는 곱창 쌀국슈 맛집 \\n탐탐 들렸어요! \\n오픈런 할 생각으로 일찍갔는데 \\n이미 줄이 서있더라구요 !!!\\n\\n곱창진짜 많이 들어있어요 !❣️\\n매운 곱창쌀국수 1단계 2단계 둘다 시켜봤는데 2단계까지는 그렇게 맵지는 않은데 ㅎㅎ\\n마라맛나요 ㅎㅎㅎㅎ\\n차돌쌀국수 분짜 말모말모 존맛탱😆😆😆\\n\\n#서울홍대맛집 #서울맛집 #홍대맛집 #곱창쌀국수 #마라맛 #줄서는식당 #차돌쌀국수\\n#쌀국수 #분짜 #퐁퐁 #퐁퐁한일상'], ['2023-10-27', '.\\n홍대신상맛집 💗무쇠김치삼겹💗\\n요즘핫한 솥뚜껑에 삼겹살이 홍대에⁉\\n삼겹살 기름으로 김치 굽는거 미쳤다ㅋㅋ\\n마무리로 얼큰한 김치전골 추가는 필수임🤩\\n.\\n고기먹으러 간건데 코스요리 먹는줄(╹ڡ╹ )\\n야 이거 당장 ㄱㄱ??@@\\n.\\n서교동 358-122 1층 무쇠김치삼겹\\n매일 14:00 - 00:00'], ['2023-10-27', 'Photo by 박수연 in 합정동. May be an image of dessert, soap, bagel and text.'], ['2023-10-27', 'Photo by 박채혜 in 홍제동.'], ['2023-10-27', '미친!복숭아 덕후들 여기 모여봐라!!🍑\\n아니 이거 무슨 궁댕이 마냥 몽글몽글한게\\n미친비주얼이다😲#대구_데일리베이킹스튜디오\\n\\n@이건 먹으러 가야지!빨리 와라😭\\n\\n더 다양한 맛집이 궁금하다면? @verryhappyeating\\n\\n#홍대맛집 #서울 #서울홍대맛집 #디저트맛집 #맛집 #맛집추천 #존예 #존맛 #개존맛 #댕존맛 #핫플 #먹는즐거움 #복숭아맛집 #복숭아디저트 #데일리베이킹스튜디오 #대구맛집 #대구복숭아빵 #복숭아빵 #대구데일리베이킹스튜디오 #일상 #팔로우 #강남 #홍대 #먹스타그램 #02년생 #03년생 #유머 #웃짤 #유머글']]\n"
     ]
    }
   ],
   "source": [
    "# finding all and store with date\n",
    "todayDatas =[]\n",
    "now=datetime.datetime.now()\n",
    "date=now.strftime('%Y-%m-%d')\n",
    "print(date)\n",
    "\n",
    "for c in range(3):\n",
    "    for r in range(9):\n",
    "        textImg = driver.find_element(By.XPATH, f'/html/body/div[2]/div/div/div[2]/div/div/div/div[1]/div[1]/div[2]/section/main/article/div/div/div/div[{r+1}]/div[{c+1}]/a/div[1]/div[1]/img')\n",
    "        data=[date, textImg.get_attribute('alt')]\n",
    "        todayDatas.append(data)\n",
    "print(todayDatas)"
   ]
  },
  {
   "cell_type": "code",
   "execution_count": 8,
   "metadata": {},
   "outputs": [
    {
     "ename": "NoSuchElementException",
     "evalue": "Message: no such element: Unable to locate element: {\"method\":\"xpath\",\"selector\":\"/html/body/div[7]/div[1]/div/div[3]/div/div/div/div/div[2]/div/article/div/div[2]/div/div/div[2]/div[1]/ul/div/li/div/div/div[2]/div[1]/h1\"}\n  (Session info: chrome=118.0.5993.117); For documentation on this error, please visit: https://www.selenium.dev/documentation/webdriver/troubleshooting/errors#no-such-element-exception\nStacktrace:\n\tGetHandleVerifier [0x00007FF6A36D8EF2+54786]\n\t(No symbol) [0x00007FF6A3645612]\n\t(No symbol) [0x00007FF6A34FA64B]\n\t(No symbol) [0x00007FF6A353B79C]\n\t(No symbol) [0x00007FF6A353B91C]\n\t(No symbol) [0x00007FF6A3576D87]\n\t(No symbol) [0x00007FF6A355BEAF]\n\t(No symbol) [0x00007FF6A3574D02]\n\t(No symbol) [0x00007FF6A355BC43]\n\t(No symbol) [0x00007FF6A3530941]\n\t(No symbol) [0x00007FF6A3531B84]\n\tGetHandleVerifier [0x00007FF6A3A27F52+3524194]\n\tGetHandleVerifier [0x00007FF6A3A7D800+3874576]\n\tGetHandleVerifier [0x00007FF6A3A75D7F+3843215]\n\tGetHandleVerifier [0x00007FF6A3775086+694166]\n\t(No symbol) [0x00007FF6A3650A88]\n\t(No symbol) [0x00007FF6A364CA94]\n\t(No symbol) [0x00007FF6A364CBC2]\n\t(No symbol) [0x00007FF6A363CC83]\n\tBaseThreadInitThunk [0x00007FFAC495257D+29]\n\tRtlUserThreadStart [0x00007FFAC542AA78+40]\n",
     "output_type": "error",
     "traceback": [
      "\u001b[1;31m---------------------------------------------------------------------------\u001b[0m",
      "\u001b[1;31mNoSuchElementException\u001b[0m                    Traceback (most recent call last)",
      "\u001b[1;32mc:\\Users\\백동명\\Desktop\\ㅁㅊ과제들\\2학년 2학기(2023 하반기)\\Data management and analysis\\Assignment1\\assignment1.ipynb Cell 8\u001b[0m line \u001b[0;36m4\n\u001b[0;32m      <a href='vscode-notebook-cell:/c%3A/Users/%EB%B0%B1%EB%8F%99%EB%AA%85/Desktop/%E3%85%81%E3%85%8A%EA%B3%BC%EC%A0%9C%EB%93%A4/2%ED%95%99%EB%85%84%202%ED%95%99%EA%B8%B0%282023%20%ED%95%98%EB%B0%98%EA%B8%B0%29/Data%20management%20and%20analysis/Assignment1/assignment1.ipynb#X10sZmlsZQ%3D%3D?line=1'>2</a>\u001b[0m driver\u001b[39m.\u001b[39mfind_element(By\u001b[39m.\u001b[39mXPATH, \u001b[39m'\u001b[39m\u001b[39m/html/body/div[2]/div/div/div[2]/div/div/div/div[1]/div[1]/div[2]/section/main/article/div/div/div/div[1]/div[1]/a/div[1]/div[2]\u001b[39m\u001b[39m'\u001b[39m)\u001b[39m.\u001b[39mclick()\n\u001b[0;32m      <a href='vscode-notebook-cell:/c%3A/Users/%EB%B0%B1%EB%8F%99%EB%AA%85/Desktop/%E3%85%81%E3%85%8A%EA%B3%BC%EC%A0%9C%EB%93%A4/2%ED%95%99%EB%85%84%202%ED%95%99%EA%B8%B0%282023%20%ED%95%98%EB%B0%98%EA%B8%B0%29/Data%20management%20and%20analysis/Assignment1/assignment1.ipynb#X10sZmlsZQ%3D%3D?line=2'>3</a>\u001b[0m time\u001b[39m.\u001b[39msleep(\u001b[39m1\u001b[39m)\n\u001b[1;32m----> <a href='vscode-notebook-cell:/c%3A/Users/%EB%B0%B1%EB%8F%99%EB%AA%85/Desktop/%E3%85%81%E3%85%8A%EA%B3%BC%EC%A0%9C%EB%93%A4/2%ED%95%99%EB%85%84%202%ED%95%99%EA%B8%B0%282023%20%ED%95%98%EB%B0%98%EA%B8%B0%29/Data%20management%20and%20analysis/Assignment1/assignment1.ipynb#X10sZmlsZQ%3D%3D?line=3'>4</a>\u001b[0m context\u001b[39m=\u001b[39mdriver\u001b[39m.\u001b[39;49mfind_element(By\u001b[39m.\u001b[39;49mXPATH, \u001b[39m'\u001b[39;49m\u001b[39m/html/body/div[7]/div[1]/div/div[3]/div/div/div/div/div[2]/div/article/div/div[2]/div/div/div[2]/div[1]/ul/div/li/div/div/div[2]/div[1]/h1\u001b[39;49m\u001b[39m'\u001b[39;49m)\n\u001b[0;32m      <a href='vscode-notebook-cell:/c%3A/Users/%EB%B0%B1%EB%8F%99%EB%AA%85/Desktop/%E3%85%81%E3%85%8A%EA%B3%BC%EC%A0%9C%EB%93%A4/2%ED%95%99%EB%85%84%202%ED%95%99%EA%B8%B0%282023%20%ED%95%98%EB%B0%98%EA%B8%B0%29/Data%20management%20and%20analysis/Assignment1/assignment1.ipynb#X10sZmlsZQ%3D%3D?line=4'>5</a>\u001b[0m \u001b[39mprint\u001b[39m(context\u001b[39m.\u001b[39mtext)\n",
      "File \u001b[1;32mc:\\Python311\\Lib\\site-packages\\selenium\\webdriver\\remote\\webdriver.py:738\u001b[0m, in \u001b[0;36mWebDriver.find_element\u001b[1;34m(self, by, value)\u001b[0m\n\u001b[0;32m    735\u001b[0m     by \u001b[39m=\u001b[39m By\u001b[39m.\u001b[39mCSS_SELECTOR\n\u001b[0;32m    736\u001b[0m     value \u001b[39m=\u001b[39m \u001b[39mf\u001b[39m\u001b[39m'\u001b[39m\u001b[39m[name=\u001b[39m\u001b[39m\"\u001b[39m\u001b[39m{\u001b[39;00mvalue\u001b[39m}\u001b[39;00m\u001b[39m\"\u001b[39m\u001b[39m]\u001b[39m\u001b[39m'\u001b[39m\n\u001b[1;32m--> 738\u001b[0m \u001b[39mreturn\u001b[39;00m \u001b[39mself\u001b[39;49m\u001b[39m.\u001b[39;49mexecute(Command\u001b[39m.\u001b[39;49mFIND_ELEMENT, {\u001b[39m\"\u001b[39;49m\u001b[39musing\u001b[39;49m\u001b[39m\"\u001b[39;49m: by, \u001b[39m\"\u001b[39;49m\u001b[39mvalue\u001b[39;49m\u001b[39m\"\u001b[39;49m: value})[\u001b[39m\"\u001b[39m\u001b[39mvalue\u001b[39m\u001b[39m\"\u001b[39m]\n",
      "File \u001b[1;32mc:\\Python311\\Lib\\site-packages\\selenium\\webdriver\\remote\\webdriver.py:344\u001b[0m, in \u001b[0;36mWebDriver.execute\u001b[1;34m(self, driver_command, params)\u001b[0m\n\u001b[0;32m    342\u001b[0m response \u001b[39m=\u001b[39m \u001b[39mself\u001b[39m\u001b[39m.\u001b[39mcommand_executor\u001b[39m.\u001b[39mexecute(driver_command, params)\n\u001b[0;32m    343\u001b[0m \u001b[39mif\u001b[39;00m response:\n\u001b[1;32m--> 344\u001b[0m     \u001b[39mself\u001b[39;49m\u001b[39m.\u001b[39;49merror_handler\u001b[39m.\u001b[39;49mcheck_response(response)\n\u001b[0;32m    345\u001b[0m     response[\u001b[39m\"\u001b[39m\u001b[39mvalue\u001b[39m\u001b[39m\"\u001b[39m] \u001b[39m=\u001b[39m \u001b[39mself\u001b[39m\u001b[39m.\u001b[39m_unwrap_value(response\u001b[39m.\u001b[39mget(\u001b[39m\"\u001b[39m\u001b[39mvalue\u001b[39m\u001b[39m\"\u001b[39m, \u001b[39mNone\u001b[39;00m))\n\u001b[0;32m    346\u001b[0m     \u001b[39mreturn\u001b[39;00m response\n",
      "File \u001b[1;32mc:\\Python311\\Lib\\site-packages\\selenium\\webdriver\\remote\\errorhandler.py:229\u001b[0m, in \u001b[0;36mErrorHandler.check_response\u001b[1;34m(self, response)\u001b[0m\n\u001b[0;32m    227\u001b[0m         alert_text \u001b[39m=\u001b[39m value[\u001b[39m\"\u001b[39m\u001b[39malert\u001b[39m\u001b[39m\"\u001b[39m]\u001b[39m.\u001b[39mget(\u001b[39m\"\u001b[39m\u001b[39mtext\u001b[39m\u001b[39m\"\u001b[39m)\n\u001b[0;32m    228\u001b[0m     \u001b[39mraise\u001b[39;00m exception_class(message, screen, stacktrace, alert_text)  \u001b[39m# type: ignore[call-arg]  # mypy is not smart enough here\u001b[39;00m\n\u001b[1;32m--> 229\u001b[0m \u001b[39mraise\u001b[39;00m exception_class(message, screen, stacktrace)\n",
      "\u001b[1;31mNoSuchElementException\u001b[0m: Message: no such element: Unable to locate element: {\"method\":\"xpath\",\"selector\":\"/html/body/div[7]/div[1]/div/div[3]/div/div/div/div/div[2]/div/article/div/div[2]/div/div/div[2]/div[1]/ul/div/li/div/div/div[2]/div[1]/h1\"}\n  (Session info: chrome=118.0.5993.117); For documentation on this error, please visit: https://www.selenium.dev/documentation/webdriver/troubleshooting/errors#no-such-element-exception\nStacktrace:\n\tGetHandleVerifier [0x00007FF6A36D8EF2+54786]\n\t(No symbol) [0x00007FF6A3645612]\n\t(No symbol) [0x00007FF6A34FA64B]\n\t(No symbol) [0x00007FF6A353B79C]\n\t(No symbol) [0x00007FF6A353B91C]\n\t(No symbol) [0x00007FF6A3576D87]\n\t(No symbol) [0x00007FF6A355BEAF]\n\t(No symbol) [0x00007FF6A3574D02]\n\t(No symbol) [0x00007FF6A355BC43]\n\t(No symbol) [0x00007FF6A3530941]\n\t(No symbol) [0x00007FF6A3531B84]\n\tGetHandleVerifier [0x00007FF6A3A27F52+3524194]\n\tGetHandleVerifier [0x00007FF6A3A7D800+3874576]\n\tGetHandleVerifier [0x00007FF6A3A75D7F+3843215]\n\tGetHandleVerifier [0x00007FF6A3775086+694166]\n\t(No symbol) [0x00007FF6A3650A88]\n\t(No symbol) [0x00007FF6A364CA94]\n\t(No symbol) [0x00007FF6A364CBC2]\n\t(No symbol) [0x00007FF6A363CC83]\n\tBaseThreadInitThunk [0x00007FFAC495257D+29]\n\tRtlUserThreadStart [0x00007FFAC542AA78+40]\n"
     ]
    }
   ],
   "source": [
    "# finding the content of 1st column left post\n",
    "driver.find_element(By.XPATH, '/html/body/div[2]/div/div/div[2]/div/div/div/div[1]/div[1]/div[2]/section/main/article/div/div/div/div[1]/div[1]/a/div[1]/div[2]').click()\n",
    "time.sleep(1)\n",
    "context=driver.find_element(By.XPATH, '/html/body/div[7]/div[1]/div/div[3]/div/div/div/div/div[2]/div/article/div/div[2]/div/div/div[2]/div[1]/ul/div/li/div/div/div[2]/div[1]/h1')\n",
    "print(context.text)"
   ]
  },
  {
   "cell_type": "code",
   "execution_count": null,
   "metadata": {},
   "outputs": [
    {
     "name": "stdout",
     "output_type": "stream",
     "text": [
      ">>>>홍대역 데이트 풀코스 모음집.jpg\n",
      "ㄹㅇ찐핫한 곳만 모아 놨으니 그대로 꼬고!!\n",
      "존맛집부터 디저트까지 야무지게 뿌셔보쟈❤️\n",
      "@@이번 주말에는 홍대에서 모여라 >_<~~\n",
      ".\n",
      ".\n",
      "#홍대맛집 #홍대 #서울홍대맛집 #홍대입구 #홍대입구역 #홍대입구맛집 #홍대카페 #홍대소품샵 #소품샵 #홍대데이트코스 #데이트코스 #카페추천 #홍대카페추천 #홍대맛집추천 #일반 #올 #오먹_데이트코스\n"
     ]
    }
   ],
   "source": [
    "# finding the content of 1st column middle post\n",
    "driver.find_element(By.XPATH, '/html/body/div[2]/div/div/div[2]/div/div/div/div[1]/div[1]/div[2]/section/main/article/div/div/div/div[1]/div[2]/a/div[1]/div[2]').click()\n",
    "time.sleep(1)\n",
    "context=driver.find_element(By.XPATH, '/html/body/div[7]/div[1]/div/div[3]/div/div/div/div/div[2]/div/article/div/div[2]/div/div/div[2]/div[1]/ul/div/li/div/div/div[2]/div[1]/h1')\n",
    "print(context.text)\n"
   ]
  },
  {
   "cell_type": "code",
   "execution_count": null,
   "metadata": {},
   "outputs": [
    {
     "data": {
      "text/plain": [
       "'omuk_food'"
      ]
     },
     "execution_count": 119,
     "metadata": {},
     "output_type": "execute_result"
    }
   ],
   "source": [
    "context=driver.find_element(By.XPATH, '/html/body/div[7]/div[1]/div/div[3]/div/div/div/div/div[2]/div/article/div/div[2]/div/div/div[2]/div[1]/ul/div/li/div/div/div[2]/h2/div/div/div/a')\n",
    "context.text"
   ]
  },
  {
   "cell_type": "code",
   "execution_count": 10,
   "metadata": {},
   "outputs": [
    {
     "name": "stdout",
     "output_type": "stream",
     "text": [
      "1 1\n",
      "무화과 크림치즈 휘낭시에 뿅 하는 맛\n",
      "\n",
      "#홍대맛집가성비 #홍대맛집리스트 #홍대신촌동맛집 #홍대서교근처맛집 #홍대대흥맛집 #홍대상수맛집 #서울홍대맛집 #홍대맛집포장 #홍대점심맛집 #홍대입구역근처맛집 #홍대신수동맛집 #홍대의찐맛집은 #홍대데이트맛집 #팔로우해요요\n",
      "2 1\n",
      ">>>>홍대역 데이트 풀코스 모음집.jpg\n",
      "ㄹㅇ찐핫한 곳만 모아 놨으니 그대로 꼬고!!\n",
      "존맛집부터 디저트까지 야무지게 뿌셔보쟈❤️\n",
      "@@이번 주말에는 홍대에서 모여라 >_<~~\n",
      ".\n",
      ".\n",
      "#홍대맛집 #홍대 #서울홍대맛집 #홍대입구 #홍대입구역 #홍대입구맛집 #홍대카페 #홍대소품샵 #소품샵 #홍대데이트코스 #데이트코스 #카페추천 #홍대카페추천 #홍대맛집추천 #일반 #올 #오먹_데이트코스\n",
      "3 1\n",
      "마법소녀임을 숨기고 있던 사람들 다 모여ㅠㅠ\n",
      "저 케이크 아는사람!#마법당 비주얼 도랐?🍰\n",
      "레미레미도레미 제2의 멤버 될 준비 완료!✨\n",
      "\n",
      "@알지?우리 마법소녀였잖앜ㅋㅋㅋㅋㅋ\n",
      "\n",
      "더 다양한 맛집이 궁금하다면? @verryhappyeating\n",
      "\n",
      "#홍대맛집 #서울 #서울홍대맛집 #디저트맛집 #맛집 #맛집추천 #존예 #존맛 #개존맛 #댕존맛 #핫플 #먹는즐거움 #마법소녀 #마법당 #홍대마법당 #레미레미도레미 #비주얼맛집 #디저트 #홍대카페 #일상 #팔로우 #강남 #홍대 #먹스타그램 #02년생 #03년생 #유머 #웃짤 #유머글\n",
      "4 1\n"
     ]
    },
    {
     "ename": "KeyboardInterrupt",
     "evalue": "",
     "output_type": "error",
     "traceback": [
      "\u001b[1;31m---------------------------------------------------------------------------\u001b[0m",
      "\u001b[1;31mKeyboardInterrupt\u001b[0m                         Traceback (most recent call last)",
      "\u001b[1;32mc:\\Users\\백동명\\Desktop\\ㅁㅊ과제들\\2학년 2학기(2023 하반기)\\Data management and analysis\\Assignment1\\assignment1.ipynb Cell 11\u001b[0m line \u001b[0;36m8\n\u001b[0;32m      <a href='vscode-notebook-cell:/c%3A/Users/%EB%B0%B1%EB%8F%99%EB%AA%85/Desktop/%E3%85%81%E3%85%8A%EA%B3%BC%EC%A0%9C%EB%93%A4/2%ED%95%99%EB%85%84%202%ED%95%99%EA%B8%B0%282023%20%ED%95%98%EB%B0%98%EA%B8%B0%29/Data%20management%20and%20analysis/Assignment1/assignment1.ipynb#X13sZmlsZQ%3D%3D?line=5'>6</a>\u001b[0m click \u001b[39m=\u001b[39m driver\u001b[39m.\u001b[39mfind_element(By\u001b[39m.\u001b[39mXPATH, \u001b[39mf\u001b[39m\u001b[39m'\u001b[39m\u001b[39m/html/body/div[2]/div/div/div[2]/div/div/div/div[1]/div[1]/div[2]/section/main/article/div/div/div/div[\u001b[39m\u001b[39m{\u001b[39;00mr\u001b[39m+\u001b[39m\u001b[39m1\u001b[39m\u001b[39m}\u001b[39;00m\u001b[39m]/div[\u001b[39m\u001b[39m{\u001b[39;00mc\u001b[39m+\u001b[39m\u001b[39m1\u001b[39m\u001b[39m}\u001b[39;00m\u001b[39m]/a/div[1]/div[2]\u001b[39m\u001b[39m'\u001b[39m)\n\u001b[0;32m      <a href='vscode-notebook-cell:/c%3A/Users/%EB%B0%B1%EB%8F%99%EB%AA%85/Desktop/%E3%85%81%E3%85%8A%EA%B3%BC%EC%A0%9C%EB%93%A4/2%ED%95%99%EB%85%84%202%ED%95%99%EA%B8%B0%282023%20%ED%95%98%EB%B0%98%EA%B8%B0%29/Data%20management%20and%20analysis/Assignment1/assignment1.ipynb#X13sZmlsZQ%3D%3D?line=6'>7</a>\u001b[0m driver\u001b[39m.\u001b[39mexecute_script(\u001b[39m\"\u001b[39m\u001b[39marguments[0].click();\u001b[39m\u001b[39m\"\u001b[39m, click)\n\u001b[1;32m----> <a href='vscode-notebook-cell:/c%3A/Users/%EB%B0%B1%EB%8F%99%EB%AA%85/Desktop/%E3%85%81%E3%85%8A%EA%B3%BC%EC%A0%9C%EB%93%A4/2%ED%95%99%EB%85%84%202%ED%95%99%EA%B8%B0%282023%20%ED%95%98%EB%B0%98%EA%B8%B0%29/Data%20management%20and%20analysis/Assignment1/assignment1.ipynb#X13sZmlsZQ%3D%3D?line=7'>8</a>\u001b[0m time\u001b[39m.\u001b[39;49msleep(\u001b[39m5\u001b[39;49m)\n\u001b[0;32m      <a href='vscode-notebook-cell:/c%3A/Users/%EB%B0%B1%EB%8F%99%EB%AA%85/Desktop/%E3%85%81%E3%85%8A%EA%B3%BC%EC%A0%9C%EB%93%A4/2%ED%95%99%EB%85%84%202%ED%95%99%EA%B8%B0%282023%20%ED%95%98%EB%B0%98%EA%B8%B0%29/Data%20management%20and%20analysis/Assignment1/assignment1.ipynb#X13sZmlsZQ%3D%3D?line=8'>9</a>\u001b[0m \u001b[39mid\u001b[39m\u001b[39m=\u001b[39m driver\u001b[39m.\u001b[39mfind_element(By\u001b[39m.\u001b[39mXPATH, \u001b[39m'\u001b[39m\u001b[39m/html/body/div[7]/div[1]/div/div[3]/div/div/div/div/div[2]/div/article/div/div[2]/div/div/div[2]/div[1]/ul/div/li/div/div/div[2]/h2/div/span/div/a\u001b[39m\u001b[39m'\u001b[39m)\n\u001b[0;32m     <a href='vscode-notebook-cell:/c%3A/Users/%EB%B0%B1%EB%8F%99%EB%AA%85/Desktop/%E3%85%81%E3%85%8A%EA%B3%BC%EC%A0%9C%EB%93%A4/2%ED%95%99%EB%85%84%202%ED%95%99%EA%B8%B0%282023%20%ED%95%98%EB%B0%98%EA%B8%B0%29/Data%20management%20and%20analysis/Assignment1/assignment1.ipynb#X13sZmlsZQ%3D%3D?line=9'>10</a>\u001b[0m \u001b[39m# id=driver.find_element(By.XPATH, '/html/body/div[7]/div[1]/div/div[3]/div/div/div/div/div[2]/div/article/div/div[2]/div/div/div[1]/div/header/div[2]/div[1]/div[1]/div/div/span/div/div/a')\u001b[39;00m\n",
      "\u001b[1;31mKeyboardInterrupt\u001b[0m: "
     ]
    }
   ],
   "source": [
    "# store all content\n",
    "iter=0\n",
    "for c in range(3):\n",
    "    for r in range(9):\n",
    "        print(r+1,c+1)\n",
    "        click = driver.find_element(By.XPATH, f'/html/body/div[2]/div/div/div[2]/div/div/div/div[1]/div[1]/div[2]/section/main/article/div/div/div/div[{r+1}]/div[{c+1}]/a/div[1]/div[2]')\n",
    "        driver.execute_script(\"arguments[0].click();\", click)\n",
    "        time.sleep(5)\n",
    "        try: \n",
    "            id= driver.find_element(By.XPATH, '/html/body/div[7]/div[1]/div/div[3]/div/div/div/div/div[2]/div/article/div/div[2]/div/div/div[2]/div[1]/ul/div/li/div/div/div[2]/h2/div/span/div/a')\n",
    "        except:\n",
    "            id=driver.find_element(By.XPATH, '/html/body/div[7]/div[1]/div/div[3]/div/div/div/div/div[2]/div/article/div/div[2]/div/div/div[1]/div/header/div[2]/div[1]/div[1]/div/div/span/div/div/a')\n",
    "        todayDatas[iter].append(id.text)\n",
    "        context=driver.find_element(By.XPATH, '/html/body/div[7]/div[1]/div/div[3]/div/div/div/div/div[2]/div/article/div/div[2]/div/div/div[2]/div[1]/ul/div/li/div/div/div[2]/div[1]/h1')\n",
    "        print(context.text)\n",
    "        todayDatas[iter].append(context.text)\n",
    "        webdriver.ActionChains(driver).send_keys(Keys.ESCAPE).perform()\n",
    "        time.sleep(2)\n",
    "        iter+=1\n"
   ]
  },
  {
   "cell_type": "code",
   "execution_count": 81,
   "metadata": {},
   "outputs": [],
   "source": [
    "#store in csv file\n",
    "for row in todayDatas:\n",
    "    wr.writerow(row)\n",
    "    \n",
    "f.close()"
   ]
  }
 ],
 "metadata": {
  "kernelspec": {
   "display_name": "Python 3",
   "language": "python",
   "name": "python3"
  },
  "language_info": {
   "codemirror_mode": {
    "name": "ipython",
    "version": 3
   },
   "file_extension": ".py",
   "mimetype": "text/x-python",
   "name": "python",
   "nbconvert_exporter": "python",
   "pygments_lexer": "ipython3",
   "version": "3.11.4"
  }
 },
 "nbformat": 4,
 "nbformat_minor": 2
}
